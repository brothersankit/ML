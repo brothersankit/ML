{
 "cells": [
  {
   "cell_type": "code",
   "execution_count": 6,
   "id": "228dbff0-c8f1-4a54-ad72-42673a839cee",
   "metadata": {},
   "outputs": [
    {
     "name": "stdout",
     "output_type": "stream",
     "text": [
      "Accuracy: 1.0000\n",
      "Classification Report:\n",
      "              precision    recall  f1-score   support\n",
      "\n",
      "           0       1.00      1.00      1.00        96\n",
      "           1       1.00      1.00      1.00        24\n",
      "\n",
      "    accuracy                           1.00       120\n",
      "   macro avg       1.00      1.00      1.00       120\n",
      "weighted avg       1.00      1.00      1.00       120\n",
      "\n"
     ]
    },
    {
     "data": {
      "image/png": "[encoded data removed]",
      "text/plain": [
       "<Figure size 800x600 with 1 Axes>"
      ]
     },
     "metadata": {},
     "output_type": "display_data"
    },
    {
     "name": "stdout",
     "output_type": "stream",
     "text": [
      "       Feature     F-Value       P-Value\n",
      "0       Income   30.587183  1.947321e-07\n",
      "1        Limit   90.378059  2.955557e-16\n",
      "2       Rating   91.075672  2.421534e-16\n",
      "3        Cards    0.133908  7.150689e-01\n",
      "4          Age    0.002142  9.631614e-01\n",
      "5    Education    1.482109  2.258739e-01\n",
      "6   Gender-num    2.754467  9.963856e-02\n",
      "7  Student-num    6.464834  1.229753e-02\n",
      "8      Balance  169.903057  1.326267e-24\n"
     ]
    }
   ],
   "source": [
    "import pandas as pd\n",
    "import numpy as np\n",
    "import matplotlib.pyplot as plt\n",
    "import seaborn as sns\n",
    "from sklearn.model_selection import train_test_split\n",
    "from sklearn.svm import SVC\n",
    "from sklearn.metrics import accuracy_score, confusion_matrix, classification_report\n",
    "from mlxtend.plotting import plot_confusion_matrix\n",
    "from sklearn.feature_selection import f_classif\n",
    "from sklearn import metrics\n",
    "\n",
    "# Read the data\n",
    "SVM1 = pd.read_csv('F:/IIT 1st Semester/Assignment/ML/3/Credit-Modified.csv')\n",
    "\n",
    "# Data preprocessing\n",
    "SVM1['Gender'] = SVM1['Gender'].map({'Male': 0, 'Female': 1})\n",
    "SVM1['Student'] = SVM1['Student'].map({'Yes': 0, 'No': 1})\n",
    "SVM1['Married'] = SVM1['Married'].map({'Yes': 0, 'No': 1})\n",
    "\n",
    "# Define features and target variable\n",
    "X = SVM1.drop(['Unnamed: 0', 'Defaultee', 'Gender', 'Student', 'Married', 'Ethnicity', 'dcat'], axis=1)\n",
    "y = SVM1['Defaultee']\n",
    "\n",
    "# Split the data into training and testing sets\n",
    "X_train, X_test, y_train, y_test = train_test_split(X, y, test_size=0.3, random_state=1)\n",
    "\n",
    "# Create and train the SVM model\n",
    "model3 = SVC(kernel='linear', C=1.0, random_state=1)\n",
    "model3.fit(X_train, y_train)\n",
    "\n",
    "# Predict on the test set\n",
    "y_pred = model3.predict(X_test)\n",
    "\n",
    "# Calculate accuracy and confusion matrix\n",
    "accuracy = accuracy_score(y_test, y_pred)\n",
    "conf_matrix = confusion_matrix(y_test, y_pred)\n",
    "classification_rep = classification_report(y_test, y_pred)\n",
    "\n",
    "# Print accuracy and classification report\n",
    "print(f'Accuracy: {accuracy:.4f}')\n",
    "print('Classification Report:')\n",
    "print(classification_rep)\n",
    "\n",
    "# Plotting the confusion matrix with enhanced style\n",
    "fig, ax = plt.subplots(figsize=(8, 6))\n",
    "sns.set(font_scale=1.2)  # Adjust font size\n",
    "\n",
    "# Customize the heatmap colors\n",
    "heatmap = sns.heatmap(conf_matrix, annot=True, fmt='d', cmap='YlGnBu', cbar=False)\n",
    "heatmap.set_xlabel('Predicted')\n",
    "heatmap.set_ylabel('True')\n",
    "plt.title('Confusion Matrix')\n",
    "\n",
    "# Show plot\n",
    "plt.tight_layout()\n",
    "plt.show()\n",
    "\n",
    "# Perform ANOVA test for feature significance\n",
    "f_values, p_values = f_classif(X_test, y_pred)\n",
    "\n",
    "# Create a table for feature significance\n",
    "anova_results = pd.DataFrame({'Feature': X_test.columns, 'F-Value': f_values, 'P-Value': p_values})\n",
    "print(anova_results)\n"
   ]
  },
  {
   "cell_type": "code",
   "execution_count": null,
   "id": "07bb32a1-eaf3-42e1-a8c7-b3eb3a7400f7",
   "metadata": {},
   "outputs": [],
   "source": []
  }
 ],
 "metadata": {
  "kernelspec": {
   "display_name": "Python 3 (ipykernel)",
   "language": "python",
   "name": "python3"
  },
  "language_info": {
   "codemirror_mode": {
    "name": "ipython",
    "version": 3
   },
   "file_extension": ".py",
   "mimetype": "text/x-python",
   "name": "python",
   "nbconvert_exporter": "python",
   "pygments_lexer": "ipython3",
   "version": "3.11.4"
  }
 },
 "nbformat": 4,
 "nbformat_minor": 5
}
